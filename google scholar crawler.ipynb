{
 "cells": [
  {
   "cell_type": "markdown",
   "metadata": {},
   "source": [
    "## Google Scholar Crawler\n",
    "*DISCLAIMER: after retrieving 490 URLs, Google BLOCKED the IP address\n",
    "\n",
    "*TODO: add selenium and add a manual step for opening a url and showing that we are NOT a robot"
   ]
  },
  {
   "cell_type": "code",
   "execution_count": 1,
   "metadata": {},
   "outputs": [],
   "source": [
    "keyword_raw = \"flowspec\""
   ]
  },
  {
   "cell_type": "code",
   "execution_count": 2,
   "metadata": {},
   "outputs": [],
   "source": [
    "import cfscrape\n",
    "\n",
    "from lxml import etree\n",
    "\n",
    "import pandas as pd\n",
    "\n",
    "import urllib\n",
    "\n",
    "import re\n",
    "\n",
    "from random import randint\n",
    "from time import sleep"
   ]
  },
  {
   "cell_type": "code",
   "execution_count": 3,
   "metadata": {},
   "outputs": [
    {
     "name": "stdout",
     "output_type": "stream",
     "text": [
      "1 https://scholar.google.nl/scholar?start=0&q=%22flowspec%22&hl=nl&as_sdt=0,5\n",
      "The code stopped for some reason!! Possibly Google blocked us!\n",
      "\n",
      "Deze pagina wordt weergegeven wanneer Google verzoeken detecteert die afkomstig zijn van uw computernetwerk en die de  lijken te schenden. De blokkering verloopt kort nadat die verzoeken zijn gestopt. Dit verkeer kan zijn verzonden door schadelijke software, een invoegtoepassing van de browser of een script dat automatische verzoeken verzendt. Als u uw netwerkverbinding deelt, vraagt u uw beheerder om hulp. Het is mogelijk dat een andere computer die hetzelfde IP-adres gebruikt, verantwoordelijk is voor de verzoeken. Soms kan deze pagina worden weergegeven als u geavanceerde termen gebruikt die vaak door robots worden gebruikt of als de verzoeken zeer snel worden verzonden.\n",
      "\n",
      "\n"
     ]
    }
   ],
   "source": [
    "page = 1 \n",
    "df = pd.DataFrame()\n",
    "    \n",
    "while True: \n",
    "    start_page = (page - 1) * 10\n",
    "    #################################################################################\n",
    "    keyword = urllib.parse.quote_plus(\"\\\"\"+keyword_raw+\"\\\"\")\n",
    "    url=\"https://scholar.google.nl/scholar?start=\"+str(start_page)+\"&q=\"+keyword+\"&hl=nl&as_sdt=0,5\"\n",
    "    print(page, url)\n",
    "    #################################################################################\n",
    "    scraper = cfscrape.create_scraper()\n",
    "    scraped_html=scraper.get(url).content\n",
    "    # print(scraped_html.decode(\"utf-8\") )\n",
    "    html = etree.HTML(scraped_html)\n",
    "    #################################################################################    \n",
    "    elements = html.xpath(\"//div[@class='gs_ri']\")\n",
    "    #################################################################################\n",
    "    if len(elements) == 0:\n",
    "        print(\"The code stopped for some reason!! Possibly Google blocked us!\")\n",
    "        print(\"\\\"\"+(''.join(html.xpath(\"//div[@id='infoDiv']/text()\")))+\"\\\"\")\n",
    "        break\n",
    "    #################################################################################\n",
    "    for element in elements:\n",
    "        #################################################################################\n",
    "        if len(element.xpath(\"h3[@class='gs_rt']/a/text()\")) > 1:\n",
    "            title = (keyword_raw+\" \").join(element.xpath(\"h3[@class='gs_rt']/a/text()\"))\n",
    "        elif len(element.xpath(\"h3[@class='gs_rt']/a/text()\")) == 1:\n",
    "            title = element.xpath(\"h3[@class='gs_rt']/a/text()\")[0]\n",
    "        else:\n",
    "            title = \"\"\n",
    "        #################################################################################    \n",
    "        link  = ''.join(element.xpath(\"h3[@class='gs_rt']/a/@href\"))\n",
    "        #################################################################################    \n",
    "        abstract = ''.join(element.xpath(\"div[@class='gs_rs']/text()\")).replace('\\n','')\n",
    "        #################################################################################\n",
    "        reference = ''.join(element.xpath(\"div[@class='gs_a']/text()\"))\n",
    "        #################################################################################\n",
    "        try:\n",
    "            year = re.search(r\"\\d{4}\", reference)[0]\n",
    "        except:\n",
    "            year = \"\"\n",
    "        #################################################################################   \n",
    "        df = df.append({'year':year,'title':title,'abstract':abstract,'reference':reference,'link':link},ignore_index=True)\n",
    "    #################################################################################   \n",
    "    print(\"sleeping...\")\n",
    "    sleep(randint(6,18))\n",
    "    #################################################################################   \n",
    "    page = page + 1       "
   ]
  },
  {
   "cell_type": "markdown",
   "metadata": {},
   "source": [
    "## Exporting the output to a csv file"
   ]
  },
  {
   "cell_type": "code",
   "execution_count": null,
   "metadata": {},
   "outputs": [],
   "source": [
    "df.to_csv('output_crawler_google.csv')"
   ]
  },
  {
   "cell_type": "markdown",
   "metadata": {},
   "source": [
    "## Further analysis"
   ]
  },
  {
   "cell_type": "code",
   "execution_count": 25,
   "metadata": {},
   "outputs": [],
   "source": [
    "pd.options.display.max_colwidth = 100\n",
    "from urllib.parse import urlparse"
   ]
  },
  {
   "cell_type": "code",
   "execution_count": 36,
   "metadata": {},
   "outputs": [],
   "source": [
    "#Reading again the file in case it is a offline analysis\n",
    "df = pd.read_csv('output_crawler_google.csv',index_col=0).dropna()"
   ]
  },
  {
   "cell_type": "code",
   "execution_count": 37,
   "metadata": {},
   "outputs": [
    {
     "data": {
      "text/html": [
       "<div>\n",
       "<style scoped>\n",
       "    .dataframe tbody tr th:only-of-type {\n",
       "        vertical-align: middle;\n",
       "    }\n",
       "\n",
       "    .dataframe tbody tr th {\n",
       "        vertical-align: top;\n",
       "    }\n",
       "\n",
       "    .dataframe thead th {\n",
       "        text-align: right;\n",
       "    }\n",
       "</style>\n",
       "<table border=\"1\" class=\"dataframe\">\n",
       "  <thead>\n",
       "    <tr style=\"text-align: right;\">\n",
       "      <th></th>\n",
       "      <th>abstract</th>\n",
       "      <th>link</th>\n",
       "      <th>reference</th>\n",
       "      <th>title</th>\n",
       "      <th>year</th>\n",
       "    </tr>\n",
       "  </thead>\n",
       "  <tbody>\n",
       "    <tr>\n",
       "      <th>0</th>\n",
       "      <td>This document is a product of the Internet Engineering Task Force (IETF). It represents the cons...</td>\n",
       "      <td>http://www.rfc-editor.org/rfc/pdfrfc/rfc7674.txt.pdf</td>\n",
       "      <td>J Haas - 2015 - rfc-editor.org</td>\n",
       "      <td>Clarification of the flowspec Redirect Extended Community</td>\n",
       "      <td>2015.0</td>\n",
       "    </tr>\n",
       "    <tr>\n",
       "      <th>1</th>\n",
       "      <td>Effective service chaining enforcement along TE paths is proposed using Segment Routing and exte...</td>\n",
       "      <td>https://www.osapublishing.org/abstract.cfm?uri=OFC-2017-W4J.3</td>\n",
       "      <td>, , … - Optical Fiber …, 2017 - osapublishing.org</td>\n",
       "      <td>Service chaining in multi-layer networks using segment routing and extended BGP</td>\n",
       "      <td>2017.0</td>\n",
       "    </tr>\n",
       "    <tr>\n",
       "      <th>2</th>\n",
       "      <td>The BERKOM multimedia transport service provides a communication platform for audiovisual commun...</td>\n",
       "      <td>https://ieeexplore.ieee.org/abstract/document/369006/</td>\n",
       "      <td>S Damaskos,  - Proceedings of ICC/SUPERCOMM'94 …, 1994 - ieeexplore.ieee.org</td>\n",
       "      <td>The BERKOM-II flowspec and its Mapping on ATM</td>\n",
       "      <td>1994.0</td>\n",
       "    </tr>\n",
       "    <tr>\n",
       "      <th>3</th>\n",
       "      <td>Page 1. Leonardo Serodio leonardo.serodio@alcatel-lucent.com May 2013 Traffic DiversionTechnique...</td>\n",
       "      <td>https://www.nanog.org/sites/default/files/wed.general.trafficdiversion.serodio.10.pdf</td>\n",
       "      <td>L Serodio - 2013 - nanog.org</td>\n",
       "      <td>Traffic diversion techniques for DDoS mitigation using BGP</td>\n",
       "      <td>2013.0</td>\n",
       "    </tr>\n",
       "    <tr>\n",
       "      <th>4</th>\n",
       "      <td>… services together. It defines the usage and contents of three RSVP protocol objects,the , ADSP...</td>\n",
       "      <td>http://www.rfc-editor.org/rfc/pdfrfc/rfc2210.txt.pdf</td>\n",
       "      <td>J Wroclawski - 1997 - rfc-editor.org</td>\n",
       "      <td>The use of RSVP with IETF integrated services</td>\n",
       "      <td>1997.0</td>\n",
       "    </tr>\n",
       "  </tbody>\n",
       "</table>\n",
       "</div>"
      ],
      "text/plain": [
       "                                                                                              abstract  \\\n",
       "0  This document is a product of the Internet Engineering Task Force (IETF). It represents the cons...   \n",
       "1  Effective service chaining enforcement along TE paths is proposed using Segment Routing and exte...   \n",
       "2  The BERKOM multimedia transport service provides a communication platform for audiovisual commun...   \n",
       "3  Page 1. Leonardo Serodio leonardo.serodio@alcatel-lucent.com May 2013 Traffic DiversionTechnique...   \n",
       "4  … services together. It defines the usage and contents of three RSVP protocol objects,the , ADSP...   \n",
       "\n",
       "                                                                                    link  \\\n",
       "0                                   http://www.rfc-editor.org/rfc/pdfrfc/rfc7674.txt.pdf   \n",
       "1                          https://www.osapublishing.org/abstract.cfm?uri=OFC-2017-W4J.3   \n",
       "2                                  https://ieeexplore.ieee.org/abstract/document/369006/   \n",
       "3  https://www.nanog.org/sites/default/files/wed.general.trafficdiversion.serodio.10.pdf   \n",
       "4                                   http://www.rfc-editor.org/rfc/pdfrfc/rfc2210.txt.pdf   \n",
       "\n",
       "                                                                      reference  \\\n",
       "0                                                J Haas - 2015 - rfc-editor.org   \n",
       "1                             , , … - Optical Fiber …, 2017 - osapublishing.org   \n",
       "2  S Damaskos,  - Proceedings of ICC/SUPERCOMM'94 …, 1994 - ieeexplore.ieee.org   \n",
       "3                                                  L Serodio - 2013 - nanog.org   \n",
       "4                                          J Wroclawski - 1997 - rfc-editor.org   \n",
       "\n",
       "                                                                              title  \\\n",
       "0                         Clarification of the flowspec Redirect Extended Community   \n",
       "1  Service chaining in multi-layer networks using segment routing and extended BGP    \n",
       "2                                     The BERKOM-II flowspec and its Mapping on ATM   \n",
       "3                       Traffic diversion techniques for DDoS mitigation using BGP    \n",
       "4                                     The use of RSVP with IETF integrated services   \n",
       "\n",
       "     year  \n",
       "0  2015.0  \n",
       "1  2017.0  \n",
       "2  1994.0  \n",
       "3  2013.0  \n",
       "4  1997.0  "
      ]
     },
     "execution_count": 37,
     "metadata": {},
     "output_type": "execute_result"
    }
   ],
   "source": [
    "df.head()"
   ]
  },
  {
   "cell_type": "code",
   "execution_count": 38,
   "metadata": {},
   "outputs": [
    {
     "name": "stdout",
     "output_type": "stream",
     "text": [
      "TOTAL ENTRIES: 398\n"
     ]
    }
   ],
   "source": [
    "print(\"TOTAL ENTRIES:\",len(df))"
   ]
  },
  {
   "cell_type": "code",
   "execution_count": 39,
   "metadata": {},
   "outputs": [
    {
     "name": "stdout",
     "output_type": "stream",
     "text": [
      "Distinct Source of Information: 80\n",
      "\n",
      "Frequency of Source of Information:\n",
      "ieeexplore.ieee.org            74\n",
      "patents.google.com             51\n",
      "link.springer.com              40\n",
      "rfc-editor.org                 34\n",
      "tools.ietf.org                 21\n",
      "citeseerx.ist.psu.edu          20\n",
      "spiedigitallibrary.org          9\n",
      "pdfs.semanticscholar.org        9\n",
      "researchgate.net                9\n",
      "ipsj.ixsq.nii.ac.jp             8\n",
      "books.google.nl                 8\n",
      "shiraz.levkowetz.com            8\n",
      "dbpia.co.kr                     7\n",
      "dl.acm.org                      6\n",
      "sciencedirect.com               6\n",
      "buildbot.tools.ietf.org         5\n",
      "academia.edu                    5\n",
      "apps.dtic.mil                   3\n",
      "onlinelibrary.wiley.com         3\n",
      "datatracker.ietf.org            3\n",
      "ftp.nara.wide.ad.jp             2\n",
      "nanog.org                       2\n",
      "portaldeconteudo.sbc.org.br     2\n",
      "watersprings.org                2\n",
      "ftp.isi.edu                     2\n",
      "degruyter.com                   2\n",
      "paper.edu.cn                    2\n",
      "ejournal.org.cn                 2\n",
      "infoscience.epfl.ch             2\n",
      "scss.tcd.ie                     1\n",
      "Name: link, dtype: int64\n"
     ]
    }
   ],
   "source": [
    "source_distribution = df['link'].dropna().apply(lambda x: urlparse(x)[1].replace(\"www.\",\"\")).value_counts()\n",
    "print(\"Distinct Source of Information:\",len(source_distribution))\n",
    "print()\n",
    "print(\"Frequency of Source of Information:\")\n",
    "print(source_distribution.head(30))"
   ]
  },
  {
   "cell_type": "markdown",
   "metadata": {},
   "source": [
    "The most important source of information are: \n",
    "- ieeexplore.ieee.org\n",
    "- dl.acm.org\n",
    "- link.springer.com\n",
    "- pdfs.semanticscholar.org\n",
    "- sciencedirect.com\n",
    "- researchgate.net\n",
    "\n",
    "Of course the RFCs of IETF are also very important:\n",
    "- rfc-editor.org \n",
    "- tools.ietf.org\n",
    "- datatracker.ietf.org"
   ]
  },
  {
   "cell_type": "markdown",
   "metadata": {},
   "source": [
    "## Exporting information to csv files based on the source of information"
   ]
  },
  {
   "cell_type": "code",
   "execution_count": 40,
   "metadata": {},
   "outputs": [],
   "source": [
    "df[df['link'].str.contains(\"ieeexplore.ieee.org\")].to_csv(\"flowspec_ieee.csv\")"
   ]
  },
  {
   "cell_type": "code",
   "execution_count": 41,
   "metadata": {},
   "outputs": [],
   "source": [
    "df[df['link'].str.contains(\"link.springer.com\")].to_csv(\"flowspec_springer.csv\")"
   ]
  },
  {
   "cell_type": "code",
   "execution_count": 42,
   "metadata": {},
   "outputs": [],
   "source": [
    "df[df['link'].str.contains(\"pdfs.semanticscholar.org\")].to_csv(\"flowspec_semanticscholar.csv\")"
   ]
  },
  {
   "cell_type": "code",
   "execution_count": 45,
   "metadata": {},
   "outputs": [],
   "source": [
    "df[df['link'].str.contains(\"dl.acm.org\")].to_csv(\"flowspec_acm.csv\")"
   ]
  },
  {
   "cell_type": "markdown",
   "metadata": {},
   "source": [
    "## Lessons learned:\n",
    "- remove papers that have in the title or description/abstract the list of words: [rsvp, qos, quality of service, mpls, intserv, diffserv, multicast]"
   ]
  }
 ],
 "metadata": {
  "kernelspec": {
   "display_name": "Python 3",
   "language": "python",
   "name": "python3"
  },
  "language_info": {
   "codemirror_mode": {
    "name": "ipython",
    "version": 3
   },
   "file_extension": ".py",
   "mimetype": "text/x-python",
   "name": "python",
   "nbconvert_exporter": "python",
   "pygments_lexer": "ipython3",
   "version": "3.7.0"
  }
 },
 "nbformat": 4,
 "nbformat_minor": 2
}
