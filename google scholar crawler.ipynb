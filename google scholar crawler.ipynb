{
 "cells": [
  {
   "cell_type": "markdown",
   "metadata": {},
   "source": [
    "## Google Scholar Crawler\n",
    "*DISCLAIMER: after retrieving 490 URLs, Google BLOCKED the IP address\n",
    "\n",
    "*TODO: add selenium and add a manual step for opening a url and showing that we are NOT a robot"
   ]
  },
  {
   "cell_type": "code",
   "execution_count": 5,
   "metadata": {},
   "outputs": [],
   "source": [
    "keyword_raw = \"booter\""
   ]
  },
  {
   "cell_type": "code",
   "execution_count": 6,
   "metadata": {},
   "outputs": [],
   "source": [
    "import cfscrape\n",
    "from lxml import etree\n",
    "import pandas as pd\n",
    "import urllib\n",
    "import re\n",
    "from random import randint\n",
    "from time import sleep\n",
    "\n",
    "#Add selenium!!!! \n",
    "#change the user agent\n",
    "#make a small break when google ask for captcha\n",
    "\n",
    "header = {\n",
    "    'Accept': 'text/html,application/xhtml+xml,application/xml;q=0.9',\n",
    "    'Accept-Encoding': 'gzip, deflate, sdch',\n",
    "    'Accept-Language' : 'nl-NL,nl;q=0.8,en-US;q=0.6,en;q=0.4',\n",
    "    'Cache-Control' : 'max-age=0',\n",
    "    'Connection': 'keep-alive',\n",
    "    'User-Agent': 'Mozilla/5.0 (X11; Linux x86_64) AppleWebKit/537.36 (KHTML, like Gecko) Chrome/43.0.2357.81 Safari/537.36'\n",
    "    }"
   ]
  },
  {
   "cell_type": "code",
   "execution_count": 7,
   "metadata": {},
   "outputs": [
    {
     "name": "stdout",
     "output_type": "stream",
     "text": [
      "1 https://scholar.google.nl/scholar?start=0&q=%22booter%22&hl=nl&as_sdt=0,5\n",
      "sleeping...\n",
      "2 https://scholar.google.nl/scholar?start=10&q=%22booter%22&hl=nl&as_sdt=0,5\n",
      "sleeping...\n",
      "3 https://scholar.google.nl/scholar?start=20&q=%22booter%22&hl=nl&as_sdt=0,5\n",
      "sleeping...\n",
      "4 https://scholar.google.nl/scholar?start=30&q=%22booter%22&hl=nl&as_sdt=0,5\n",
      "sleeping...\n",
      "5 https://scholar.google.nl/scholar?start=40&q=%22booter%22&hl=nl&as_sdt=0,5\n",
      "sleeping...\n",
      "6 https://scholar.google.nl/scholar?start=50&q=%22booter%22&hl=nl&as_sdt=0,5\n",
      "sleeping...\n",
      "7 https://scholar.google.nl/scholar?start=60&q=%22booter%22&hl=nl&as_sdt=0,5\n",
      "sleeping...\n",
      "8 https://scholar.google.nl/scholar?start=70&q=%22booter%22&hl=nl&as_sdt=0,5\n",
      "sleeping...\n",
      "9 https://scholar.google.nl/scholar?start=80&q=%22booter%22&hl=nl&as_sdt=0,5\n",
      "sleeping...\n",
      "10 https://scholar.google.nl/scholar?start=90&q=%22booter%22&hl=nl&as_sdt=0,5\n",
      "sleeping...\n",
      "11 https://scholar.google.nl/scholar?start=100&q=%22booter%22&hl=nl&as_sdt=0,5\n",
      "sleeping...\n",
      "12 https://scholar.google.nl/scholar?start=110&q=%22booter%22&hl=nl&as_sdt=0,5\n",
      "sleeping...\n",
      "13 https://scholar.google.nl/scholar?start=120&q=%22booter%22&hl=nl&as_sdt=0,5\n",
      "sleeping...\n",
      "14 https://scholar.google.nl/scholar?start=130&q=%22booter%22&hl=nl&as_sdt=0,5\n",
      "sleeping...\n",
      "15 https://scholar.google.nl/scholar?start=140&q=%22booter%22&hl=nl&as_sdt=0,5\n",
      "sleeping...\n",
      "16 https://scholar.google.nl/scholar?start=150&q=%22booter%22&hl=nl&as_sdt=0,5\n",
      "sleeping...\n",
      "17 https://scholar.google.nl/scholar?start=160&q=%22booter%22&hl=nl&as_sdt=0,5\n",
      "sleeping...\n",
      "18 https://scholar.google.nl/scholar?start=170&q=%22booter%22&hl=nl&as_sdt=0,5\n",
      "sleeping...\n",
      "19 https://scholar.google.nl/scholar?start=180&q=%22booter%22&hl=nl&as_sdt=0,5\n",
      "sleeping...\n",
      "20 https://scholar.google.nl/scholar?start=190&q=%22booter%22&hl=nl&as_sdt=0,5\n",
      "sleeping...\n",
      "21 https://scholar.google.nl/scholar?start=200&q=%22booter%22&hl=nl&as_sdt=0,5\n",
      "sleeping...\n",
      "22 https://scholar.google.nl/scholar?start=210&q=%22booter%22&hl=nl&as_sdt=0,5\n",
      "sleeping...\n",
      "23 https://scholar.google.nl/scholar?start=220&q=%22booter%22&hl=nl&as_sdt=0,5\n",
      "sleeping...\n",
      "24 https://scholar.google.nl/scholar?start=230&q=%22booter%22&hl=nl&as_sdt=0,5\n",
      "sleeping...\n",
      "25 https://scholar.google.nl/scholar?start=240&q=%22booter%22&hl=nl&as_sdt=0,5\n",
      "sleeping...\n",
      "26 https://scholar.google.nl/scholar?start=250&q=%22booter%22&hl=nl&as_sdt=0,5\n",
      "sleeping...\n",
      "27 https://scholar.google.nl/scholar?start=260&q=%22booter%22&hl=nl&as_sdt=0,5\n",
      "sleeping...\n",
      "28 https://scholar.google.nl/scholar?start=270&q=%22booter%22&hl=nl&as_sdt=0,5\n",
      "sleeping...\n",
      "29 https://scholar.google.nl/scholar?start=280&q=%22booter%22&hl=nl&as_sdt=0,5\n",
      "sleeping...\n",
      "30 https://scholar.google.nl/scholar?start=290&q=%22booter%22&hl=nl&as_sdt=0,5\n",
      "sleeping...\n",
      "31 https://scholar.google.nl/scholar?start=300&q=%22booter%22&hl=nl&as_sdt=0,5\n",
      "sleeping...\n",
      "32 https://scholar.google.nl/scholar?start=310&q=%22booter%22&hl=nl&as_sdt=0,5\n",
      "sleeping...\n",
      "33 https://scholar.google.nl/scholar?start=320&q=%22booter%22&hl=nl&as_sdt=0,5\n",
      "sleeping...\n",
      "34 https://scholar.google.nl/scholar?start=330&q=%22booter%22&hl=nl&as_sdt=0,5\n",
      "sleeping...\n",
      "35 https://scholar.google.nl/scholar?start=340&q=%22booter%22&hl=nl&as_sdt=0,5\n",
      "sleeping...\n",
      "36 https://scholar.google.nl/scholar?start=350&q=%22booter%22&hl=nl&as_sdt=0,5\n",
      "sleeping...\n",
      "37 https://scholar.google.nl/scholar?start=360&q=%22booter%22&hl=nl&as_sdt=0,5\n",
      "sleeping...\n",
      "38 https://scholar.google.nl/scholar?start=370&q=%22booter%22&hl=nl&as_sdt=0,5\n",
      "sleeping...\n",
      "39 https://scholar.google.nl/scholar?start=380&q=%22booter%22&hl=nl&as_sdt=0,5\n",
      "sleeping...\n",
      "40 https://scholar.google.nl/scholar?start=390&q=%22booter%22&hl=nl&as_sdt=0,5\n",
      "sleeping...\n",
      "41 https://scholar.google.nl/scholar?start=400&q=%22booter%22&hl=nl&as_sdt=0,5\n",
      "sleeping...\n",
      "42 https://scholar.google.nl/scholar?start=410&q=%22booter%22&hl=nl&as_sdt=0,5\n",
      "sleeping...\n",
      "43 https://scholar.google.nl/scholar?start=420&q=%22booter%22&hl=nl&as_sdt=0,5\n",
      "sleeping...\n",
      "44 https://scholar.google.nl/scholar?start=430&q=%22booter%22&hl=nl&as_sdt=0,5\n",
      "The code stopped for some reason!! Possibly Google blocked us!\n",
      "\"\n",
      "Deze pagina wordt weergegeven wanneer Google verzoeken detecteert die afkomstig zijn van uw computernetwerk en die de  lijken te schenden. De blokkering verloopt kort nadat die verzoeken zijn gestopt. Dit verkeer kan zijn verzonden door schadelijke software, een invoegtoepassing van de browser of een script dat automatische verzoeken verzendt. Als u uw netwerkverbinding deelt, vraagt u uw beheerder om hulp. Het is mogelijk dat een andere computer die hetzelfde IP-adres gebruikt, verantwoordelijk is voor de verzoeken. Soms kan deze pagina worden weergegeven als u geavanceerde termen gebruikt die vaak door robots worden gebruikt of als de verzoeken zeer snel worden verzonden.\n",
      "\n",
      "\"\n"
     ]
    }
   ],
   "source": [
    "page = 1 \n",
    "df = pd.DataFrame()\n",
    "    \n",
    "while True: \n",
    "    start_page = (page - 1) * 10\n",
    "    #################################################################################\n",
    "    keyword = urllib.parse.quote_plus(\"\\\"\"+keyword_raw+\"\\\"\")\n",
    "    url=\"https://scholar.google.nl/scholar?start=\"+str(start_page)+\"&q=\"+keyword+\"&hl=nl&as_sdt=0,5\"\n",
    "    print(page, url)\n",
    "    #################################################################################\n",
    "    scraper = cfscrape.create_scraper()\n",
    "    scraped_html=scraper.get(url,headers=header).content\n",
    "    # print(scraped_html.decode(\"utf-8\") )\n",
    "    html = etree.HTML(scraped_html)\n",
    "    #################################################################################    \n",
    "    elements = html.xpath(\"//div[@class='gs_ri']\")\n",
    "    #################################################################################\n",
    "    if len(elements) == 0:\n",
    "        print(\"The code stopped for some reason!! Possibly Google blocked us!\")\n",
    "        print(\"\\\"\"+(''.join(html.xpath(\"//div[@id='infoDiv']/text()\")))+\"\\\"\")\n",
    "        break\n",
    "    #################################################################################\n",
    "    for element in elements:\n",
    "        #################################################################################\n",
    "        if len(element.xpath(\"h3[@class='gs_rt']/a/text()\")) > 1:\n",
    "            title = (keyword_raw+\" \").join(element.xpath(\"h3[@class='gs_rt']/a/text()\"))\n",
    "        elif len(element.xpath(\"h3[@class='gs_rt']/a/text()\")) == 1:\n",
    "            title = element.xpath(\"h3[@class='gs_rt']/a/text()\")[0]\n",
    "        else:\n",
    "            title = \"\"\n",
    "        #################################################################################    \n",
    "        link  = ''.join(element.xpath(\"h3[@class='gs_rt']/a/@href\"))\n",
    "        #################################################################################    \n",
    "        abstract = ''.join(element.xpath(\"div[@class='gs_rs']/text()\")).replace('\\n','')\n",
    "        #################################################################################\n",
    "        reference = ''.join(element.xpath(\"div[@class='gs_a']/text()\"))\n",
    "        #################################################################################\n",
    "        try:\n",
    "            year = re.search(r\"\\d{4}\", reference)[0]\n",
    "        except:\n",
    "            year = \"\"\n",
    "        #################################################################################   \n",
    "        df = df.append({'year':year,'title':title,'abstract':abstract,'reference':reference,'link':link},ignore_index=True)\n",
    "    #################################################################################   \n",
    "    print(\"sleeping...\")\n",
    "    sleep(randint(6,18))\n",
    "    #################################################################################   \n",
    "    page = page + 1       "
   ]
  },
  {
   "cell_type": "markdown",
   "metadata": {},
   "source": [
    "## Exporting the output to a csv file"
   ]
  },
  {
   "cell_type": "code",
   "execution_count": 8,
   "metadata": {},
   "outputs": [],
   "source": [
    "df.to_csv('booter_papers_crawler_google_scholar.csv')"
   ]
  },
  {
   "cell_type": "markdown",
   "metadata": {},
   "source": [
    "## Further analysis"
   ]
  },
  {
   "cell_type": "code",
   "execution_count": 9,
   "metadata": {},
   "outputs": [],
   "source": [
    "pd.options.display.max_colwidth = 100\n",
    "from urllib.parse import urlparse"
   ]
  },
  {
   "cell_type": "code",
   "execution_count": 10,
   "metadata": {},
   "outputs": [],
   "source": [
    "#Reading again the file in case it is a offline analysis\n",
    "df = pd.read_csv('booter_papers_crawler_google_scholar.csv',index_col=0).dropna()"
   ]
  },
  {
   "cell_type": "code",
   "execution_count": 12,
   "metadata": {},
   "outputs": [
    {
     "data": {
      "text/plain": [
       "349"
      ]
     },
     "execution_count": 12,
     "metadata": {},
     "output_type": "execute_result"
    }
   ],
   "source": [
    "len(df)"
   ]
  },
  {
   "cell_type": "code",
   "execution_count": 38,
   "metadata": {},
   "outputs": [
    {
     "name": "stdout",
     "output_type": "stream",
     "text": [
      "TOTAL ENTRIES: 398\n"
     ]
    }
   ],
   "source": [
    "print(\"TOTAL ENTRIES:\",len(df))"
   ]
  },
  {
   "cell_type": "code",
   "execution_count": 39,
   "metadata": {},
   "outputs": [
    {
     "name": "stdout",
     "output_type": "stream",
     "text": [
      "Distinct Source of Information: 80\n",
      "\n",
      "Frequency of Source of Information:\n",
      "ieeexplore.ieee.org            74\n",
      "patents.google.com             51\n",
      "link.springer.com              40\n",
      "rfc-editor.org                 34\n",
      "tools.ietf.org                 21\n",
      "citeseerx.ist.psu.edu          20\n",
      "spiedigitallibrary.org          9\n",
      "pdfs.semanticscholar.org        9\n",
      "researchgate.net                9\n",
      "ipsj.ixsq.nii.ac.jp             8\n",
      "books.google.nl                 8\n",
      "shiraz.levkowetz.com            8\n",
      "dbpia.co.kr                     7\n",
      "dl.acm.org                      6\n",
      "sciencedirect.com               6\n",
      "buildbot.tools.ietf.org         5\n",
      "academia.edu                    5\n",
      "apps.dtic.mil                   3\n",
      "onlinelibrary.wiley.com         3\n",
      "datatracker.ietf.org            3\n",
      "ftp.nara.wide.ad.jp             2\n",
      "nanog.org                       2\n",
      "portaldeconteudo.sbc.org.br     2\n",
      "watersprings.org                2\n",
      "ftp.isi.edu                     2\n",
      "degruyter.com                   2\n",
      "paper.edu.cn                    2\n",
      "ejournal.org.cn                 2\n",
      "infoscience.epfl.ch             2\n",
      "scss.tcd.ie                     1\n",
      "Name: link, dtype: int64\n"
     ]
    }
   ],
   "source": [
    "source_distribution = df['link'].dropna().apply(lambda x: urlparse(x)[1].replace(\"www.\",\"\")).value_counts()\n",
    "print(\"Distinct Source of Information:\",len(source_distribution))\n",
    "print()\n",
    "print(\"Frequency of Source of Information:\")\n",
    "print(source_distribution.head(30))"
   ]
  },
  {
   "cell_type": "markdown",
   "metadata": {},
   "source": [
    "The most important source of information are: \n",
    "- ieeexplore.ieee.org\n",
    "- dl.acm.org\n",
    "- link.springer.com\n",
    "- pdfs.semanticscholar.org\n",
    "- sciencedirect.com\n",
    "- researchgate.net\n",
    "\n",
    "Of course the RFCs of IETF are also very important:\n",
    "- rfc-editor.org \n",
    "- tools.ietf.org\n",
    "- datatracker.ietf.org"
   ]
  },
  {
   "cell_type": "markdown",
   "metadata": {},
   "source": [
    "## Exporting information to csv files based on the source of information"
   ]
  },
  {
   "cell_type": "code",
   "execution_count": 40,
   "metadata": {},
   "outputs": [],
   "source": [
    "df[df['link'].str.contains(\"ieeexplore.ieee.org\")].to_csv(\"flowspec_ieee.csv\")"
   ]
  },
  {
   "cell_type": "code",
   "execution_count": 41,
   "metadata": {},
   "outputs": [],
   "source": [
    "df[df['link'].str.contains(\"link.springer.com\")].to_csv(\"flowspec_springer.csv\")"
   ]
  },
  {
   "cell_type": "code",
   "execution_count": 42,
   "metadata": {},
   "outputs": [],
   "source": [
    "df[df['link'].str.contains(\"pdfs.semanticscholar.org\")].to_csv(\"flowspec_semanticscholar.csv\")"
   ]
  },
  {
   "cell_type": "code",
   "execution_count": 45,
   "metadata": {},
   "outputs": [],
   "source": [
    "df[df['link'].str.contains(\"dl.acm.org\")].to_csv(\"flowspec_acm.csv\")"
   ]
  },
  {
   "cell_type": "markdown",
   "metadata": {},
   "source": [
    "## Lessons learned:\n",
    "- remove papers that have in the title or description/abstract the list of words: [rsvp, qos, quality of service, mpls, intserv, diffserv, multicast]"
   ]
  }
 ],
 "metadata": {
  "kernelspec": {
   "display_name": "Python 3",
   "language": "python",
   "name": "python3"
  },
  "language_info": {
   "codemirror_mode": {
    "name": "ipython",
    "version": 3
   },
   "file_extension": ".py",
   "mimetype": "text/x-python",
   "name": "python",
   "nbconvert_exporter": "python",
   "pygments_lexer": "ipython3",
   "version": "3.7.0"
  }
 },
 "nbformat": 4,
 "nbformat_minor": 2
}
